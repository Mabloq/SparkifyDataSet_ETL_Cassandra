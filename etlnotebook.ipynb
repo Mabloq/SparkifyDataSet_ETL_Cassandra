{
 "cells": [
  {
   "cell_type": "markdown",
   "metadata": {},
   "source": [
    "# Part I. ETL Pipeline for Pre-Processing the Files"
   ]
  },
  {
   "cell_type": "markdown",
   "metadata": {},
   "source": [
    "## PLEASE RUN THE FOLLOWING CODE FOR PRE-PROCESSING THE FILES"
   ]
  },
  {
   "cell_type": "markdown",
   "metadata": {},
   "source": [
    "#### Import Python packages "
   ]
  },
  {
   "cell_type": "code",
   "execution_count": 1,
   "metadata": {},
   "outputs": [],
   "source": [
    "import cassandra\n",
    "import re\n",
    "import os\n",
    "import glob\n",
    "import csv"
   ]
  },
  {
   "cell_type": "markdown",
   "metadata": {},
   "source": [
    "#### Creating list of filepaths to process original event csv data files"
   ]
  },
  {
   "cell_type": "code",
   "execution_count": 2,
   "metadata": {},
   "outputs": [],
   "source": [
    "# Get your current folder and subfolder event data\n",
    "filepath = os.getcwd() + '/event_data'\n",
    "\n",
    "# Create a for loop to create a list of files and collect each filepath\n",
    "for root, dirs, files in os.walk(filepath):\n",
    "    # join the file path and roots with the subdirectories using glob\n",
    "    file_path_list = glob.glob(os.path.join(root,'*'))"
   ]
  },
  {
   "cell_type": "markdown",
   "metadata": {},
   "source": [
    "#### Processing the files to create the data file csv that will be used for Apache Casssandra tables"
   ]
  },
  {
   "cell_type": "code",
   "execution_count": 3,
   "metadata": {},
   "outputs": [],
   "source": [
    "# initiating an empty list of rows that will be generated from each file\n",
    "full_data_rows_list = [] \n",
    "    \n",
    "# for every filepath in the file path list \n",
    "for f in file_path_list:\n",
    "\n",
    "# reading csv file \n",
    "    with open(f, 'r', encoding = 'utf8', newline='') as csvfile: \n",
    "        # creating a csv reader object \n",
    "        csvreader = csv.reader(csvfile) \n",
    "        next(csvreader)\n",
    "        \n",
    " # extracting each data row one by one and append it        \n",
    "        for line in csvreader:\n",
    "            #print(line)\n",
    "            full_data_rows_list.append(line) \n",
    "\n",
    "        \n",
    "# creating a smaller event data csv file called event_datafile_full csv that will be used to insert data into the \\\n",
    "# Apache Cassandra tables\n",
    "csv.register_dialect('myDialect', quoting=csv.QUOTE_ALL, skipinitialspace=True)\n",
    "\n",
    "with open('event_datafile_new.csv', 'w', encoding = 'utf8', newline='') as f:\n",
    "    writer = csv.writer(f, dialect='myDialect')\n",
    "    writer.writerow(['artist','firstName','gender','itemInSession','lastName','length',\\\n",
    "                'level','location','sessionId','song','userId'])\n",
    "    for row in full_data_rows_list:\n",
    "        #if fists item in row is empty then its just the logout or home page, we dont need these eows\n",
    "        if (row[0] == ''):\n",
    "            continue\n",
    "        writer.writerow((row[0], row[2], row[3], row[4], row[5], row[6], row[7], row[8], row[12], row[13], row[16]))\n"
   ]
  },
  {
   "cell_type": "markdown",
   "metadata": {},
   "source": [
    "#### Creating a Cluster"
   ]
  },
  {
   "cell_type": "code",
   "execution_count": 4,
   "metadata": {},
   "outputs": [],
   "source": [
    "from cassandra.cluster import Cluster\n",
    "try:\n",
    "    cluster = Cluster(['127.0.0.1'])\n",
    "    session = cluster.connect()\n",
    "except Exception as e: \n",
    "    print(e) "
   ]
  },
  {
   "cell_type": "markdown",
   "metadata": {},
   "source": [
    "#### Create Keyspace"
   ]
  },
  {
   "cell_type": "code",
   "execution_count": 5,
   "metadata": {},
   "outputs": [],
   "source": [
    "# Create a Keyspace \n",
    "try: \n",
    "    session.execute(\"\"\" \n",
    "        CREATE KEYSPACE IF NOT EXISTS udacity  \n",
    "        WITH REPLICATION =  \n",
    "        { 'class' : 'SimpleStrategy', 'replication_factor' : 1 }\"\"\" \n",
    "    ) \n",
    "except Exception as e: \n",
    "    print(e) "
   ]
  },
  {
   "cell_type": "markdown",
   "metadata": {},
   "source": [
    "### Set Keyspace"
   ]
  },
  {
   "cell_type": "code",
   "execution_count": 6,
   "metadata": {},
   "outputs": [],
   "source": [
    "# Set KEYSPACE to the keyspace specified above\n",
    "try: \n",
    "    session.set_keyspace('udacity') \n",
    "except Exception as e: \n",
    "    print(e) "
   ]
  },
  {
   "cell_type": "markdown",
   "metadata": {},
   "source": [
    "# Creating Data Model and Loading from CSV file"
   ]
  },
  {
   "cell_type": "markdown",
   "metadata": {},
   "source": [
    "## Table1: session_songplays "
   ]
  },
  {
   "cell_type": "markdown",
   "metadata": {},
   "source": [
    " - For our session_songplays table we model it so that we can support the following query:\n",
    "\n",
    "    ``` sql\n",
    "        Select artist, song_title, length\n",
    "        from session_songplays\n",
    "        where session_id = 338 and session_item = 4\n",
    "        \n",
    "    ```\n",
    "    ...\n",
    " - We see in our query that we are filtering first by session_id and then by session_item.\n",
    " - Therefore session_id (being unique) becomes our candidate for our PRIMARY KEY and session_item becomes a good choice for a clustering column\n",
    "   in order to support the query defined above."
   ]
  },
  {
   "cell_type": "code",
   "execution_count": 7,
   "metadata": {},
   "outputs": [],
   "source": [
    "create_sessions = \"CREATE TABLE IF NOT EXISTS session_songplays \"\n",
    "create_sessions = create_sessions + \"(session_id smallint, session_item smallint, artist text, song_title text, length double, PRIMARY KEY (session_id, session_item))\"\n",
    "try:\n",
    "    session.execute(create_sessions)\n",
    "except Exception as e:\n",
    "    print(e)\n"
   ]
  },
  {
   "cell_type": "markdown",
   "metadata": {},
   "source": [
    "### Insert into session_songplays"
   ]
  },
  {
   "cell_type": "code",
   "execution_count": 8,
   "metadata": {
    "scrolled": false
   },
   "outputs": [],
   "source": [
    "# insert into table from approriate csv columns\n",
    "session_insert = \"INSERT INTO session_songplays (session_id, session_item, artist, song_title, length)\"\n",
    "session_insert += \" VALUES (%s, %s, %s, %s, %s)\"\n",
    "\n",
    "file = 'event_datafile_new.csv'\n",
    "\n",
    "with open(file, encoding = 'utf8') as f:\n",
    "    csvreader = csv.reader(f)\n",
    "    next(csvreader) # skip header\n",
    "    for line in csvreader:\n",
    "        #line = ['artist','firstName','gender','itemInSession','lastName','length','level','location','sessionId','song','userId']\n",
    "        session.execute(session_insert, (int(line[8]), int(line[3]), line[0], line[9], float(line[5])))"
   ]
  },
  {
   "cell_type": "markdown",
   "metadata": {},
   "source": [
    "### Test the query we modeled our table after"
   ]
  },
  {
   "cell_type": "code",
   "execution_count": 9,
   "metadata": {
    "scrolled": true
   },
   "outputs": [
    {
     "name": "stdout",
     "output_type": "stream",
     "text": [
      "Faithless Music Matters (Mark Knight Dub) 495.3073\n"
     ]
    }
   ],
   "source": [
    "query = \"SELECT artist, song_title, length FROM session_songplays WHERE session_id=338 AND session_item =4\"\n",
    "try:\n",
    "    rows = session.execute(query)\n",
    "except Exception as e:\n",
    "    print(e)\n",
    "\n",
    "for row in rows:\n",
    "    print(row.artist, row.song_title, row.length)"
   ]
  },
  {
   "cell_type": "markdown",
   "metadata": {},
   "source": [
    "## Table2: user_songplays"
   ]
  },
  {
   "cell_type": "markdown",
   "metadata": {},
   "source": [
    " - For our user_songplays table we model it so that we can support the following query:\n",
    "\n",
    "    ``` sql\n",
    "        Select artist, song_title (sorted by session_item), first_name, last_name\n",
    "        from session_songplays\n",
    "        where user_id = 10 and session_id = 182\n",
    "        \n",
    "    ```\n",
    "    ...\n",
    " - We see in our query that we are filtering first by user_id and then by session_id.\n",
    " - Therefore user_id (being unique and supporting our query) becomes our candidate for our PRIMARY KEY and session_id becomes a good choice \n",
    "   for a clustering column in order to support the query defined above.\n",
    " - However we must note that the query also has the requirement that the artist, song_title fields must be sorted by session_item \n",
    " - Therefore we had a second clustering column session_item"
   ]
  },
  {
   "cell_type": "code",
   "execution_count": 10,
   "metadata": {},
   "outputs": [],
   "source": [
    "# Model user_songplays table after the following query: Give me only the following: name of artist, song (sorted by itemInSession) and user \\\n",
    "# (first and last name) for userid = 10, sessionid = 182\n",
    "\n",
    "create_users = \"\"\"CREATE TABLE IF NOT EXISTS user_songplays \n",
    "                    (user_id smallint, \n",
    "                     session_id smallint,\n",
    "                     session_item smallint,\n",
    "                     artist text,\n",
    "                     song_title text,\n",
    "                     first_name text,\n",
    "                     last_name text,\n",
    "                     PRIMARY KEY (user_id, session_id, session_item)\n",
    "                    )\n",
    "\"\"\"\n",
    "\n",
    "try:\n",
    "    session.execute(create_users)\n",
    "except Exception as e:\n",
    "    print(e)\n",
    "    \n",
    "\n",
    "                    "
   ]
  },
  {
   "cell_type": "markdown",
   "metadata": {},
   "source": [
    "### Insert into user_songplays"
   ]
  },
  {
   "cell_type": "code",
   "execution_count": 11,
   "metadata": {},
   "outputs": [],
   "source": [
    "# insert into table from approriate csv columns\n",
    "\n",
    "users_insert = \"INSERT INTO user_songplays (user_id, session_id, session_item, artist, song_title, first_name, last_name)\"\n",
    "users_insert += \" VALUES (%s, %s, %s, %s, %s, %s, %s)\"\n",
    "\n",
    "file = 'event_datafile_new.csv'\n",
    "\n",
    "with open(file, encoding = 'utf8') as f:\n",
    "    csvreader = csv.reader(f)\n",
    "    next(csvreader) # skip header\n",
    "    for line in csvreader:\n",
    "        #line = ['artist','firstName','gender','itemInSession','lastName','length','level','location','sessionId','song','userId']\n",
    "        ## TO-DO: Assign which column element should be assigned for each column in the INSERT statement.\n",
    "        ## For e.g., to INSERT artist_name and user first_name, you would change the code below to `line[0], line[1]`\n",
    "        session.execute(users_insert, (int(line[10]), int(line[8]), int(line[3]), line[0], line[9], line[1], line[4]))"
   ]
  },
  {
   "cell_type": "markdown",
   "metadata": {},
   "source": [
    "### Test the query we modeled our table after"
   ]
  },
  {
   "cell_type": "code",
   "execution_count": 12,
   "metadata": {},
   "outputs": [
    {
     "name": "stdout",
     "output_type": "stream",
     "text": [
      "Down To The Bone Keep On Keepin' On Sylvie Cruz\n",
      "Three Drives Greece 2000 Sylvie Cruz\n",
      "Sebastien Tellier Kilometer Sylvie Cruz\n",
      "Lonnie Gordon Catch You Baby (Steve Pitron & Max Sanna Radio Edit) Sylvie Cruz\n"
     ]
    }
   ],
   "source": [
    "## Test the query we modeled our table after\n",
    "query = \"SELECT artist, song_title, first_name, last_name from user_songplays WHERE user_id = 10 and session_id = 182\"\n",
    "try:\n",
    "    rows = session.execute(query)\n",
    "except Exception as e:\n",
    "    print(e)\n",
    "\n",
    "for row in rows:\n",
    "    print(row.artist, row.song_title, row.first_name, row.last_name)"
   ]
  },
  {
   "cell_type": "markdown",
   "metadata": {},
   "source": [
    "## Table3: song_songplays"
   ]
  },
  {
   "cell_type": "markdown",
   "metadata": {},
   "source": [
    " - For our song_songplays table we model it so that we can support the following query:\n",
    "\n",
    "    ``` sql\n",
    "        SELECT first_name, last_name \n",
    "        from song_songplays \n",
    "        WHERE song_title='All Hands Against His Own'\n",
    "        \n",
    "    ```\n",
    "    ...\n",
    " - We see in our query that we are filtering first by song_title\n",
    " - song_title (not being unique) makes it a bad candidate for our PRIMARY KEY by itself\n",
    " - Therfore we Create a compound primary key with user_id, this way we can see if more than one person listened to this song, what are there\n",
    "   distinct names and membership level etc.\n",
    " - Note: If one wanted more granular information, then a 3 column primary key could be created that would include an added session_id which would\n",
    "   enable us to know more about the context in which a group of users listened to a specific song (what other songs did they play in the session\n",
    "   ,in how many distinct sessions did a user listen to a song etc.)"
   ]
  },
  {
   "cell_type": "code",
   "execution_count": 13,
   "metadata": {},
   "outputs": [],
   "source": [
    "create_users = \"\"\"CREATE TABLE IF NOT EXISTS song_songplays\n",
    "                    (user_id smallint, \n",
    "                     artist text,\n",
    "                     song_title text,\n",
    "                     first_name text,\n",
    "                     last_name text,\n",
    "                     PRIMARY KEY (song_title, user_id)\n",
    "                    )\n",
    "\"\"\"\n",
    "\n",
    "try:\n",
    "    session.execute(create_users)\n",
    "except Exception as e:\n",
    "    print(e)"
   ]
  },
  {
   "cell_type": "markdown",
   "metadata": {},
   "source": [
    "### Insert into song_sonplays"
   ]
  },
  {
   "cell_type": "code",
   "execution_count": 14,
   "metadata": {},
   "outputs": [],
   "source": [
    "# insert into table from approriate csv columns\n",
    "plays_insert = \"INSERT INTO song_songplays (user_id, artist, song_title, first_name, last_name)\"\n",
    "plays_insert += \" VALUES (%s, %s, %s, %s, %s)\"\n",
    "\n",
    "file = 'event_datafile_new.csv'\n",
    "\n",
    "with open(file, encoding = 'utf8') as f:\n",
    "    csvreader = csv.reader(f)\n",
    "    next(csvreader) # skip header\n",
    "    for line in csvreader:\n",
    "        #line = ['artist','firstName','gender','itemInSession','lastName','length','level','location','sessionId','song','userId']\n",
    "        ## TO-DO: Assign which column element should be assigned for each column in the INSERT statement.\n",
    "        ## For e.g., to INSERT artist_name and user first_name, you would change the code below to `line[0], line[1]`\n",
    "        session.execute(plays_insert, (int(line[10]), line[0], line[9], line[1], line[4]))"
   ]
  },
  {
   "cell_type": "markdown",
   "metadata": {},
   "source": [
    "### Test the query we modeled our table after"
   ]
  },
  {
   "cell_type": "code",
   "execution_count": 15,
   "metadata": {},
   "outputs": [
    {
     "name": "stdout",
     "output_type": "stream",
     "text": [
      "Jacqueline Lynch\n",
      "Tegan Levine\n",
      "Sara Johnson\n"
     ]
    }
   ],
   "source": [
    "# Test the query we modeled our table after\n",
    "query = \"SELECT first_name, last_name from song_songplays WHERE song_title='All Hands Against His Own'\"\n",
    "\n",
    "try:\n",
    "    rows = session.execute(query)\n",
    "except Exception as e:\n",
    "    print(e)\n",
    "\n",
    "for row in rows:\n",
    "    print(row.first_name, row.last_name)"
   ]
  },
  {
   "cell_type": "markdown",
   "metadata": {},
   "source": [
    "# Drop the tables before closing out the sessions"
   ]
  },
  {
   "cell_type": "code",
   "execution_count": 4,
   "metadata": {},
   "outputs": [],
   "source": [
    "## TO-DO: Drop the table before closing out the sessions"
   ]
  },
  {
   "cell_type": "code",
   "execution_count": null,
   "metadata": {},
   "outputs": [],
   "source": [
    "drop_sessions = \"DROP TABLE IF EXISTS session_songplays\"\n",
    "drop_users = \"DROP TABLE IF EXISTS user_songplays\"\n",
    "drop_songs = \"DROP TABLE IF EXISTS songs_songplays\"\n",
    "\n",
    "session.execute(drop_sessions)\n",
    "session.execute(drop_users)\n",
    "session.execute(drop_songs)"
   ]
  },
  {
   "cell_type": "markdown",
   "metadata": {},
   "source": [
    "### Close the session and cluster connection¶"
   ]
  },
  {
   "cell_type": "code",
   "execution_count": null,
   "metadata": {},
   "outputs": [],
   "source": [
    "session.shutdown()\n",
    "cluster.shutdown()"
   ]
  },
  {
   "cell_type": "code",
   "execution_count": null,
   "metadata": {},
   "outputs": [],
   "source": []
  },
  {
   "cell_type": "code",
   "execution_count": null,
   "metadata": {},
   "outputs": [],
   "source": []
  }
 ],
 "metadata": {
  "kernelspec": {
   "display_name": "Python 3",
   "language": "python",
   "name": "python3"
  },
  "language_info": {
   "codemirror_mode": {
    "name": "ipython",
    "version": 3
   },
   "file_extension": ".py",
   "mimetype": "text/x-python",
   "name": "python",
   "nbconvert_exporter": "python",
   "pygments_lexer": "ipython3",
   "version": "3.6.3"
  }
 },
 "nbformat": 4,
 "nbformat_minor": 2
}
